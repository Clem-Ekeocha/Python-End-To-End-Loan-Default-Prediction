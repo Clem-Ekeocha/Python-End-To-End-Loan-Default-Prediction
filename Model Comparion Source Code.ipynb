{
 "cells": [
  {
   "cell_type": "markdown",
   "id": "86332539",
   "metadata": {
    "id": "86332539"
   },
   "source": [
    "## 1. Importing Libraries and TVS dataset"
   ]
  },
  {
   "cell_type": "code",
   "execution_count": null,
   "id": "719b9a93",
   "metadata": {
    "id": "719b9a93"
   },
   "outputs": [],
   "source": [
    "import pandas as pd              # Importing the pandas library for data manipulation and analysis\n",
    "import numpy as np               # Importing the numpy library for numerical computations\n",
    "import matplotlib.pyplot as plt  # Importing the pyplot module from matplotlib for data visualization\n",
    "import seaborn as sns            # Importing the seaborn library for statistical data visualization\n"
   ]
  },
  {
   "cell_type": "code",
   "execution_count": null,
   "id": "a104c6fa",
   "metadata": {
    "colab": {
     "base_uri": "https://localhost:8080/",
     "height": 270
    },
    "id": "a104c6fa",
    "outputId": "830b8abe-9f24-4123-bc33-34c0d535ffc9"
   },
   "outputs": [],
   "source": [
    "# Reading the CSV file named \"TVS.csv\" using pandas and storing the data in the variable 'data'\n",
    "data = pd.read_csv(\"C:/Users/MY PC/Desktop\\DISSERTATION/TVS.csv\")\n",
    "\n",
    "# Displaying the first few rows of the loaded TVS dataset using the 'head()' function\n",
    "data.head()\n"
   ]
  },
  {
   "cell_type": "markdown",
   "id": "d7498ad5",
   "metadata": {
    "id": "d7498ad5"
   },
   "source": [
    " "
   ]
  },
  {
   "cell_type": "markdown",
   "id": "625c57e3",
   "metadata": {
    "id": "625c57e3"
   },
   "source": [
    "## 2. Data Exploration"
   ]
  },
  {
   "cell_type": "markdown",
   "id": "58c26352",
   "metadata": {
    "id": "58c26352"
   },
   "source": [
    "### 2a. Data Manipulation"
   ]
  },
  {
   "cell_type": "code",
   "execution_count": null,
   "id": "e6892b83",
   "metadata": {
    "colab": {
     "base_uri": "https://localhost:8080/",
     "height": 394
    },
    "id": "e6892b83",
    "outputId": "dfc341ed-bdb1-4145-9740-d6a6627df8a3"
   },
   "outputs": [],
   "source": [
    "# Generating descriptive statistics for the loaded TVS dataset using the 'describe()' function\n",
    "data.describe()"
   ]
  },
  {
   "cell_type": "code",
   "execution_count": null,
   "id": "8a961e21",
   "metadata": {
    "colab": {
     "base_uri": "https://localhost:8080/"
    },
    "id": "8a961e21",
    "outputId": "83436977-4fba-4465-ddd1-c96effaaf7c0"
   },
   "outputs": [],
   "source": [
    "# Displaying a concise summary of the loaded dataset using the 'info()' function\n",
    "data.info()"
   ]
  },
  {
   "cell_type": "code",
   "execution_count": null,
   "id": "e358a967",
   "metadata": {
    "colab": {
     "base_uri": "https://localhost:8080/"
    },
    "id": "e358a967",
    "outputId": "dcfe24c4-3f54-4002-ab67-bf58e933ea05"
   },
   "outputs": [],
   "source": [
    "# Retrieving the shape of the TVS dataset using the 'shape' attribute\n",
    "data.shape"
   ]
  },
  {
   "cell_type": "code",
   "execution_count": null,
   "id": "5745f3b0",
   "metadata": {
    "colab": {
     "base_uri": "https://localhost:8080/"
    },
    "id": "5745f3b0",
    "outputId": "b0c73079-0ea9-4f53-c60f-09a3c287f339"
   },
   "outputs": [],
   "source": [
    "# Counting the occurrences of each unique value in the 'V32' column of the dataset\n",
    "data.V32.value_counts()"
   ]
  },
  {
   "cell_type": "code",
   "execution_count": null,
   "id": "e01999a5",
   "metadata": {
    "id": "e01999a5"
   },
   "outputs": [],
   "source": [
    "# Calculating the percentage of missing values in each column of the TVS dataset\n",
    "missing_percent = data.isnull().sum() / len(data) * 100"
   ]
  },
  {
   "cell_type": "code",
   "execution_count": null,
   "id": "9fb76eff",
   "metadata": {
    "id": "9fb76eff"
   },
   "outputs": [],
   "source": [
    "# Selecting columns with missing value percentage greater than or equal to 30%\n",
    "missing_columns = missing_percent[missing_percent >= 30]"
   ]
  },
  {
   "cell_type": "code",
   "execution_count": null,
   "id": "b75c35f8",
   "metadata": {
    "colab": {
     "base_uri": "https://localhost:8080/"
    },
    "id": "b75c35f8",
    "outputId": "3dca883b-227b-402f-bf4d-0f9adc5acffc"
   },
   "outputs": [],
   "source": [
    "print(missing_columns)"
   ]
  },
  {
   "cell_type": "code",
   "execution_count": null,
   "id": "340a2e69",
   "metadata": {
    "colab": {
     "base_uri": "https://localhost:8080/"
    },
    "id": "340a2e69",
    "outputId": "b5252d81-51fa-4ecb-9575-c1533c9c41bb"
   },
   "outputs": [],
   "source": [
    "# Creating a list of column names to be dropped from the TVS dataset\n",
    "col_to_drop = ['V21', 'V22', 'V23', 'V24', 'V26', 'V27', 'Customer_ID', 'DOB', 'Gender']\n",
    "\n",
    "# Dropping the specified columns from the 'data' DataFrame\n",
    "data = data.drop(col_to_drop, axis=1)\n",
    "\n",
    "# Displaying the remaining column names in the modified TVS dataset\n",
    "data.columns\n"
   ]
  },
  {
   "cell_type": "code",
   "execution_count": null,
   "id": "b3fc5a69",
   "metadata": {
    "colab": {
     "base_uri": "https://localhost:8080/"
    },
    "id": "b3fc5a69",
    "outputId": "012f5609-4fc2-41b7-85f1-4cab39a423a3"
   },
   "outputs": [],
   "source": [
    "# Confirming the selected columns have been dropped\n",
    "data.shape"
   ]
  },
  {
   "cell_type": "code",
   "execution_count": null,
   "id": "650609a1",
   "metadata": {
    "colab": {
     "base_uri": "https://localhost:8080/"
    },
    "id": "650609a1",
    "outputId": "c22ef399-1cef-48c9-f141-ddaa03dbead0"
   },
   "outputs": [],
   "source": [
    "# Counting the number of missing values in each column of the TVS dataset\n",
    "data.isnull().sum()"
   ]
  },
  {
   "cell_type": "markdown",
   "id": "7a8b84b4",
   "metadata": {
    "id": "7a8b84b4"
   },
   "source": []
  },
  {
   "cell_type": "markdown",
   "id": "c4b7d914",
   "metadata": {
    "id": "c4b7d914"
   },
   "source": [
    "### 2b. Data Visualization"
   ]
  },
  {
   "cell_type": "markdown",
   "id": "1f18e8e4",
   "metadata": {
    "id": "1f18e8e4"
   },
   "source": [
    "#### 2b. (i). Univariate Visualization"
   ]
  },
  {
   "cell_type": "code",
   "execution_count": null,
   "id": "dc781a7f",
   "metadata": {
    "colab": {
     "base_uri": "https://localhost:8080/",
     "height": 907
    },
    "id": "dc781a7f",
    "outputId": "c0ffabce-28b7-4b28-fd93-43d02c613738"
   },
   "outputs": [],
   "source": [
    "\n",
    "# Creating a figure with a size of 15x9 inches\n",
    "plt.figure(figsize=(15,9))\n",
    "\n",
    "# Plotting a bar chart of the normalized value counts for 'Wheeler_Code'\n",
    "plt.subplot(221)\n",
    "data['Wheeler_Code'].value_counts(normalize=True).plot.bar(title='Wheeler_Code')\n",
    "\n",
    "# Plotting a bar chart of the normalized value counts for 'Employment_Type'\n",
    "plt.subplot(222)\n",
    "data['Employment_Type'].value_counts(normalize=True).plot.bar(title='Employment_Type')\n",
    "\n",
    "# Plotting a bar chart of the normalized value counts for 'Customer_Property_Type'\n",
    "plt.subplot(223)\n",
    "data['Customer_Property_Type'].value_counts(normalize=True).plot.bar(title='Customer_Property_Type')\n",
    "\n",
    "# Plotting a bar chart of the normalized value counts for 'V31'\n",
    "plt.subplot(224)\n",
    "data['V31'].value_counts(normalize=True).plot.bar(title='V31')\n",
    "\n",
    "# Adjusting the spacing between subplots for better readability\n",
    "plt.tight_layout()\n",
    "\n",
    "# Displaying the figure with all the subplots\n",
    "plt.show()\n"
   ]
  },
  {
   "cell_type": "markdown",
   "id": "82a76b39",
   "metadata": {
    "id": "82a76b39"
   },
   "source": [
    " "
   ]
  },
  {
   "cell_type": "markdown",
   "id": "4ef96b0b",
   "metadata": {
    "id": "4ef96b0b"
   },
   "source": [
    "#### 2b. (ii). Outlier identification in Loan Amount using Box plot and Distribution Plot"
   ]
  },
  {
   "cell_type": "code",
   "execution_count": null,
   "id": "708d0fa7",
   "metadata": {
    "colab": {
     "base_uri": "https://localhost:8080/",
     "height": 825
    },
    "id": "708d0fa7",
    "outputId": "551cb490-9781-4508-c022-fc2d5ee8026e"
   },
   "outputs": [],
   "source": [
    "\n",
    "# Creating a figure with a size of 15x7 inches\n",
    "plt.figure(figsize=(15, 7))\n",
    "\n",
    "# Creating the first subplot in a 1x2 grid\n",
    "plt.subplot(121)\n",
    "\n",
    "# Plotting a distribution plot (histogram and KDE) for the 'Loan_Amount' column\n",
    "sns.distplot(data['Loan_Amount'])\n",
    "\n",
    "# Creating the second subplot in a 1x2 grid\n",
    "plt.subplot(122)\n",
    "\n",
    "# Plotting a box plot for the 'Loan_Amount' column\n",
    "data['Loan_Amount'].plot.box()\n",
    "\n",
    "# Displaying the figure with the subplots\n",
    "plt.show()\n"
   ]
  },
  {
   "cell_type": "markdown",
   "id": "c322e9b2",
   "metadata": {
    "id": "c322e9b2"
   },
   "source": [
    " "
   ]
  },
  {
   "cell_type": "markdown",
   "id": "42ad59c8",
   "metadata": {
    "id": "42ad59c8"
   },
   "source": [
    "#### 2b. (iii). Multivariate visualization involving V32"
   ]
  },
  {
   "cell_type": "code",
   "execution_count": null,
   "id": "28a42986",
   "metadata": {
    "colab": {
     "base_uri": "https://localhost:8080/",
     "height": 564
    },
    "id": "28a42986",
    "outputId": "51e9ba00-e2bf-4dbf-8b30-83343f9c3ec9"
   },
   "outputs": [],
   "source": [
    "\n",
    "# Creating a figure with a size of 12x6 inches\n",
    "plt.figure(figsize=(12, 6))\n",
    "\n",
    "# Plotting a count plot of 'Customer_Property_Type' with hue based on 'V32' of the TVS dataset\n",
    "sns.countplot(x=\"Customer_Property_Type\", hue=\"V32\", data=data)\n",
    "\n",
    "# Setting the title of the plot\n",
    "plt.title(\"Plot of Customer_Property_Type Against Target Variable\")\n",
    "\n",
    "# Displaying the plot\n",
    "plt.show()\n"
   ]
  },
  {
   "cell_type": "code",
   "execution_count": null,
   "id": "5b3f1816",
   "metadata": {
    "colab": {
     "base_uri": "https://localhost:8080/",
     "height": 564
    },
    "id": "5b3f1816",
    "outputId": "8aad3aeb-00ec-4df6-e0d3-0e7e19389109",
    "scrolled": true
   },
   "outputs": [],
   "source": [
    "# Creating a figure with a size of 12x6 inches\n",
    "plt.figure(figsize=(12, 6))\n",
    "\n",
    "# Plotting a count plot of 'Employment_Type' with hue based on 'V32'\n",
    "sns.countplot(x=\"Employment_Type\", hue=\"V32\", data=data)\n",
    "\n",
    "# Setting the title of the plot\n",
    "plt.title(\"Plot of Employment_Type Against Target Variable\")\n",
    "\n",
    "# Displaying the plot\n",
    "plt.show()\n"
   ]
  },
  {
   "cell_type": "markdown",
   "id": "5ac19fea",
   "metadata": {
    "id": "5ac19fea"
   },
   "source": [
    " "
   ]
  },
  {
   "cell_type": "markdown",
   "id": "4a776068",
   "metadata": {
    "id": "4a776068"
   },
   "source": [
    "#### 2b. (iv). Correlation Heatmap plot of the available features in the TVS dataset"
   ]
  },
  {
   "cell_type": "code",
   "execution_count": null,
   "id": "0803d0d0",
   "metadata": {
    "colab": {
     "base_uri": "https://localhost:8080/",
     "height": 1000
    },
    "id": "0803d0d0",
    "outputId": "39de6f67-2a1f-4459-9445-a1c9ab889c23",
    "scrolled": true
   },
   "outputs": [],
   "source": [
    "\n",
    "# Creating a figure with a size of 20x15 inches\n",
    "plt.figure(figsize=(20, 15))\n",
    "\n",
    "# Creating a heatmap to visualize the correlation matrix of the 'TVS data'\n",
    "sns.heatmap(data.corr(), annot=True, cmap='coolwarm')\n",
    "\n",
    "# Setting the title of the plot\n",
    "plt.title('Heatmap to show correlation in TVS dataset')\n",
    "\n",
    "# Displaying the plot\n",
    "plt.show()"
   ]
  },
  {
   "cell_type": "markdown",
   "id": "2b3718f4",
   "metadata": {
    "id": "2b3718f4"
   },
   "source": [
    " "
   ]
  },
  {
   "cell_type": "markdown",
   "id": "88ba4e79",
   "metadata": {
    "id": "88ba4e79"
   },
   "source": [
    "### 2c. Handling Missing Values"
   ]
  },
  {
   "cell_type": "markdown",
   "id": "f2008ff2",
   "metadata": {
    "id": "f2008ff2"
   },
   "source": [
    "#### 2c. (i). mapping categorical values from object to numerical datatypes"
   ]
  },
  {
   "cell_type": "code",
   "execution_count": null,
   "id": "86d0da32",
   "metadata": {
    "colab": {
     "base_uri": "https://localhost:8080/"
    },
    "id": "86d0da32",
    "outputId": "7ecbdd5f-1527-416a-8c86-37b3908479df"
   },
   "outputs": [],
   "source": [
    "# Counting the number of missing values in each column of the TVS dataset\n",
    "data.isnull().sum()"
   ]
  },
  {
   "cell_type": "code",
   "execution_count": null,
   "id": "c895cddc",
   "metadata": {
    "colab": {
     "base_uri": "https://localhost:8080/"
    },
    "id": "c895cddc",
    "outputId": "5abac55f-47cf-4968-871e-cf48b1cfc72d"
   },
   "outputs": [],
   "source": [
    "\n",
    "# Mapping dictionary for converting values in the 'Wheeler_Code' column\n",
    "conv1 = {\"SC\": 1, \"MO\": 2, \"MC\": 3, \"TL\": 4, \"RETOP\": 5}\n",
    "\n",
    "# Mapping the values in the 'Wheeler_Code' column using the 'conv1' dictionary\n",
    "data['Wheeler_Code'] = data['Wheeler_Code'].map(conv1)\n",
    "\n",
    "# Counting the occurrences of each unique value in the 'Wheeler_Code' column\n",
    "data['Wheeler_Code'].value_counts()\n"
   ]
  },
  {
   "cell_type": "code",
   "execution_count": null,
   "id": "4532487c",
   "metadata": {
    "colab": {
     "base_uri": "https://localhost:8080/"
    },
    "id": "4532487c",
    "outputId": "8b61e61c-c823-48ad-e8e7-62dbb5160519"
   },
   "outputs": [],
   "source": [
    "\n",
    "# Mapping dictionary for converting values in the 'Employment_Type' column\n",
    "conv3 = {\"SELF\": 1, \"SAL\": 2, \"HOUSEWIFE\": 3, \"STUDENT\": 4, \"PENS\": 5}\n",
    "\n",
    "# Mapping the values in the 'Employment_Type' column using the 'conv3' dictionary\n",
    "data['Employment_Type'] = data['Employment_Type'].map(conv3)\n",
    "\n",
    "# Counting the occurrences of each unique value in the 'Employment_Type' column\n",
    "data[['Employment_Type']].value_counts()\n"
   ]
  },
  {
   "cell_type": "code",
   "execution_count": null,
   "id": "8ccc515a",
   "metadata": {
    "colab": {
     "base_uri": "https://localhost:8080/"
    },
    "id": "8ccc515a",
    "outputId": "34286649-8f6e-45f2-db65-7aeeb4c38592"
   },
   "outputs": [],
   "source": [
    "\n",
    "# Mapping dictionary for converting values in the 'Customer_Property_Type' column\n",
    "conv4 = {\"OWNED\": 1, \"RENT\": 2, \"OWENED BY OFFICE\": 3}\n",
    "\n",
    "# Mapping the values in the 'Customer_Property_Type' column using the 'conv4' dictionary\n",
    "data['Customer_Property_Type'] = data['Customer_Property_Type'].map(conv4)\n",
    "\n",
    "# Counting the occurrences of each unique value in the 'Customer_Property_Type' column\n",
    "data[['Customer_Property_Type']].value_counts()"
   ]
  },
  {
   "cell_type": "code",
   "execution_count": null,
   "id": "8cb20ad0",
   "metadata": {
    "colab": {
     "base_uri": "https://localhost:8080/"
    },
    "id": "8cb20ad0",
    "outputId": "af70f069-02b2-4f9c-cfeb-5024f995bacb"
   },
   "outputs": [],
   "source": [
    "\n",
    "# Mapping dictionary for converting values in the 'V31' column\n",
    "conv5 = {\"TIER 1\": 1, \"TIER 2\": 2, \"TIER 3\": 3, \"TIER 4\": 4}\n",
    "\n",
    "# Mapping the values in the 'V31' column using the 'conv5' dictionary\n",
    "data['V31'] = data['V31'].map(conv5)\n",
    "\n",
    "# Counting the occurrences of each unique value in the 'V31' column\n",
    "data[['V31']].value_counts()\n"
   ]
  },
  {
   "cell_type": "markdown",
   "id": "14e16d5b",
   "metadata": {
    "id": "14e16d5b"
   },
   "source": [
    " "
   ]
  },
  {
   "cell_type": "code",
   "execution_count": null,
   "id": "7973d3fb",
   "metadata": {
    "id": "7973d3fb"
   },
   "outputs": [],
   "source": [
    "# Creating an alternative dataset for the missing value handling process\n",
    "data2 = data"
   ]
  },
  {
   "cell_type": "markdown",
   "id": "e24bfb59",
   "metadata": {
    "id": "e24bfb59"
   },
   "source": [
    " "
   ]
  },
  {
   "cell_type": "markdown",
   "id": "2f5f8cbf",
   "metadata": {
    "id": "2f5f8cbf"
   },
   "source": [
    "#### 2c. (ii). Replacing missing values with either Mean or Mode using domain knowledge"
   ]
  },
  {
   "cell_type": "code",
   "execution_count": null,
   "id": "79bac02a",
   "metadata": {
    "id": "79bac02a"
   },
   "outputs": [],
   "source": [
    "\n",
    "# Fill missing values in 'Duration_With_TVS' column with mean value\n",
    "data2['Duration_With_TVS'].fillna(data2['Duration_With_TVS'].mean(), inplace=True)\n",
    "\n",
    "# Fill missing values in 'No_of_Bounce' column with mode value\n",
    "data2['No_of_Bounce'].fillna(data2['No_of_Bounce'].mode()[0], inplace=True)\n",
    "\n",
    "# Fill missing values in 'EMI' column with mean value\n",
    "data2['EMI'].fillna(data2['EMI'].mean(), inplace=True)\n",
    "\n",
    "# Fill missing values in 'Loan_Amount' column with mean value\n",
    "data2['Loan_Amount'].fillna(data2['Loan_Amount'].mean(), inplace=True)\n",
    "\n",
    "# Fill missing values in 'Tenure' column with mode value\n",
    "data2['Tenure'].fillna(data2['Tenure'].mode()[0], inplace=True)\n",
    "\n",
    "# Fill missing values in 'Dealer_Codes_For_Two_Wheeler' column with mode value\n",
    "data2['Dealer_Codes_For_Two_Wheeler'].fillna(data2['Dealer_Codes_For_Two_Wheeler'].mode()[0], inplace=True)\n",
    "\n",
    "# Fill missing values in 'Wheeler_Code' column with mode value\n",
    "data2['Wheeler_Code'].fillna(data2['Wheeler_Code'].mode()[0], inplace=True)\n",
    "\n",
    "# Fill missing values in 'No_Of_Advance_EMI' column with mode value\n",
    "data2['No_Of_Advance_EMI'].fillna(data2['No_Of_Advance_EMI'].mode()[0], inplace=True)\n",
    "\n",
    "# Fill missing values in 'Interest_Rate' column with mean value\n",
    "data2['Interest_Rate'].fillna(data2['Interest_Rate'].mean(), inplace=True)\n",
    "\n",
    "# Fill missing values in 'Employment_Type' column with mode value\n",
    "data2['Employment_Type'].fillna(data2['Employment_Type'].mode()[0], inplace=True)\n",
    "\n",
    "# Fill missing values in 'Customer_Property_Type' column with mode value\n",
    "data2['Customer_Property_Type'].fillna(data2['Customer_Property_Type'].mode()[0], inplace=True)\n",
    "\n",
    "# Fill missing values in 'Age_Before_Loan' column with median value\n",
    "data2['Age_Before_Loan'].fillna(data2['Age_Before_Loan'].median(), inplace=True)\n",
    "\n",
    "# Fill missing values in 'V25' column with mean value\n",
    "data2['V25'].fillna(data2['V25'].mean(), inplace=True)\n"
   ]
  },
  {
   "cell_type": "markdown",
   "id": "c543350b",
   "metadata": {
    "id": "c543350b"
   },
   "source": [
    " "
   ]
  },
  {
   "cell_type": "markdown",
   "id": "e05dbe68",
   "metadata": {
    "id": "e05dbe68"
   },
   "source": [
    "### 2d. Log Transformation of Loan_Amount feature to eliminate bimodal distribution present"
   ]
  },
  {
   "cell_type": "code",
   "execution_count": null,
   "id": "60858696",
   "metadata": {
    "colab": {
     "base_uri": "https://localhost:8080/",
     "height": 430
    },
    "id": "60858696",
    "outputId": "be01ffa3-ec29-43df-8625-9b3d4f49dea9"
   },
   "outputs": [],
   "source": [
    "\n",
    "# Applying logarithmic transformation to the 'Loan_Amount' column and save the result in a new column called 'Loan_Amount_log'\n",
    "data2['Loan_Amount_log'] = np.log(data2['Loan_Amount'])\n",
    "\n",
    "# Creating a histogram of the 'Loan_Amount_log' column with 8 bins\n",
    "data2['Loan_Amount_log'].hist(bins=8)\n",
    "\n",
    "# Displaying the histogram\n",
    "plt.show()\n"
   ]
  },
  {
   "cell_type": "markdown",
   "id": "8c76d88b",
   "metadata": {
    "id": "8c76d88b"
   },
   "source": [
    " "
   ]
  },
  {
   "cell_type": "markdown",
   "id": "86c91e14",
   "metadata": {
    "id": "86c91e14"
   },
   "source": [
    "### 2e. Outlier Management"
   ]
  },
  {
   "cell_type": "markdown",
   "id": "350a3cdd",
   "metadata": {
    "id": "350a3cdd"
   },
   "source": [
    "#### 2e. (i). Identifying outliers in the selected features of the TVS dataset\n"
   ]
  },
  {
   "cell_type": "code",
   "execution_count": null,
   "id": "13690d0b",
   "metadata": {
    "colab": {
     "base_uri": "https://localhost:8080/",
     "height": 1000
    },
    "id": "13690d0b",
    "outputId": "7706a336-df31-4235-cdef-3f7f09b849df"
   },
   "outputs": [],
   "source": [
    "\n",
    "# Selecting the specified columns from the 'data2' DataFrame and storing them in the 'h' DataFrame\n",
    "h = data2[['No_Of_Secured_Loans', 'EMI', 'No_Of_Loans', 'No_of_Bounce', 'V25', 'V28', 'V29', 'V30']]\n",
    "\n",
    "for col in h:\n",
    "    plt.boxplot(data2[col])  # Creating a box plot for each column in 'h'\n",
    "    plt.xlabel(col)          # Setting the x-axis label to the column name\n",
    "    plt.show()               # Displaying the box plot\n"
   ]
  },
  {
   "cell_type": "markdown",
   "id": "cc26ee7d",
   "metadata": {
    "id": "cc26ee7d"
   },
   "source": [
    " "
   ]
  },
  {
   "cell_type": "code",
   "execution_count": null,
   "id": "6396dcc2",
   "metadata": {
    "id": "6396dcc2"
   },
   "outputs": [],
   "source": [
    "# Creating an alternative dataset for the outlier handling process\n",
    "data3 = data2"
   ]
  },
  {
   "cell_type": "markdown",
   "id": "a224863d",
   "metadata": {
    "id": "a224863d"
   },
   "source": [
    " "
   ]
  },
  {
   "cell_type": "markdown",
   "id": "f2d79772",
   "metadata": {
    "id": "f2d79772"
   },
   "source": [
    "#### 2e. (ii). Removing outliers in the selected features of the TVS dataset"
   ]
  },
  {
   "cell_type": "code",
   "execution_count": null,
   "id": "a872b2f6",
   "metadata": {
    "id": "a872b2f6"
   },
   "outputs": [],
   "source": [
    "\n",
    "# Filtering out rows where the value in the 'V28' column is greater than 150\n",
    "data3 = data3[data3['V28'] <= 150]\n",
    "\n",
    "# Filtering out rows where the value in the 'V25' column is greater than 230000\n",
    "data3 = data3[data3['V25'] <= 230000]\n",
    "\n",
    "# Filtering out rows where the value in the 'V29' column is greater than 80\n",
    "data3 = data3[data3['V29'] <= 80]\n",
    "\n",
    "# Filtering out rows where the value in the 'V30' column is greater than 45\n",
    "data3 = data3[data3['V30'] <= 45]\n",
    "\n",
    "# Filtering out rows where the value in the 'EMI' column is greater than 7000\n",
    "data3 = data3[data3['EMI'] <= 7000]\n",
    "\n",
    "# Filtering out rows where the value in the 'No_Of_Secured_Loans' column is greater than 140\n",
    "data3 = data3[data3['No_Of_Secured_Loans'] <= 140]\n",
    "\n",
    "# Filtering out rows where the value in the 'No_Of_Loans' column is greater than 150\n",
    "data3 = data3[data3['No_Of_Loans'] <= 150]\n",
    "\n",
    "# Filtering out rows where the value in the 'No_of_Bounce' column is greater than 20\n",
    "data3 = data3[data3['No_of_Bounce'] <= 20]"
   ]
  },
  {
   "cell_type": "markdown",
   "id": "08b28f63",
   "metadata": {
    "id": "08b28f63"
   },
   "source": [
    " "
   ]
  },
  {
   "cell_type": "markdown",
   "id": "6fbba3a7",
   "metadata": {
    "id": "6fbba3a7"
   },
   "source": [
    "#### 2e. (iii). Verify outliers have been handled"
   ]
  },
  {
   "cell_type": "code",
   "execution_count": null,
   "id": "6163b9e2",
   "metadata": {
    "colab": {
     "base_uri": "https://localhost:8080/",
     "height": 1000
    },
    "id": "6163b9e2",
    "outputId": "2355ce48-3f69-48e1-c669-ce3523205b40"
   },
   "outputs": [],
   "source": [
    "j = data3[['No_Of_Secured_Loans','EMI','No_Of_Loans','No_of_Bounce', 'V25', 'V28', 'V29', 'V30']]\n",
    "\n",
    "for col in j:\n",
    "    plt.boxplot(data3[col])\n",
    "    plt.xlabel(col)\n",
    "    plt.show()"
   ]
  },
  {
   "cell_type": "markdown",
   "id": "6b0e912c",
   "metadata": {
    "id": "6b0e912c"
   },
   "source": [
    " "
   ]
  },
  {
   "cell_type": "code",
   "execution_count": null,
   "id": "96850944",
   "metadata": {
    "id": "96850944"
   },
   "outputs": [],
   "source": [
    "# Creating an alternative dataset for the outlier handling process\n",
    "data4 = data3"
   ]
  },
  {
   "cell_type": "markdown",
   "id": "c955c9b1",
   "metadata": {
    "id": "c955c9b1"
   },
   "source": [
    " "
   ]
  },
  {
   "cell_type": "markdown",
   "id": "55e5af9f",
   "metadata": {
    "id": "55e5af9f"
   },
   "source": [
    "### 2f. Data Normalization"
   ]
  },
  {
   "cell_type": "code",
   "execution_count": null,
   "id": "0e7fe6e7",
   "metadata": {
    "id": "0e7fe6e7"
   },
   "outputs": [],
   "source": [
    "\n",
    "# Import MinMaxScaler library for normalization\n",
    "from sklearn.preprocessing import MinMaxScaler\n",
    "\n",
    "# Create an instance of MinMaxScaler\n",
    "scaler = MinMaxScaler()\n",
    "\n",
    "# Apply MinMaxScaler to the 'data4' DataFrame and create a new DataFrame 'data4_normal' with scaled values\n",
    "data4_normal = pd.DataFrame(scaler.fit_transform(data4), columns=data4.columns)"
   ]
  },
  {
   "cell_type": "markdown",
   "id": "9dbec3e5",
   "metadata": {
    "id": "9dbec3e5"
   },
   "source": [
    " "
   ]
  },
  {
   "cell_type": "code",
   "execution_count": null,
   "id": "aa89eb5d",
   "metadata": {
    "colab": {
     "base_uri": "https://localhost:8080/",
     "height": 770
    },
    "id": "aa89eb5d",
    "outputId": "a05064a9-92bc-41ad-e6b4-a77da8aec4fb"
   },
   "outputs": [],
   "source": [
    "# Verification of the normalized dataset\n",
    "data4_normal.head(20)"
   ]
  },
  {
   "cell_type": "markdown",
   "id": "59bd2812",
   "metadata": {
    "id": "59bd2812"
   },
   "source": [
    " "
   ]
  },
  {
   "cell_type": "markdown",
   "id": "a64d3c6a",
   "metadata": {
    "id": "a64d3c6a"
   },
   "source": [
    "## 3. Model development"
   ]
  },
  {
   "cell_type": "markdown",
   "id": "67977cc3",
   "metadata": {
    "id": "67977cc3"
   },
   "source": [
    "### 3a. Import required libraries for model development and valuation"
   ]
  },
  {
   "cell_type": "code",
   "execution_count": null,
   "id": "eb2bcfe1",
   "metadata": {
    "id": "eb2bcfe1"
   },
   "outputs": [],
   "source": [
    "# Import required libraries for the model development\n",
    "\n",
    "\n",
    "# Importing cross_val_score for cross-validation\n",
    "from sklearn.model_selection import cross_val_score\n",
    "\n",
    "# Importing train_test_split for data splitting\n",
    "from sklearn.model_selection import train_test_split\n",
    "\n",
    "# Importing various metrics for model evaluation\n",
    "from sklearn.metrics import (confusion_matrix, classification_report, accuracy_score,\n",
    "                             precision_score, recall_score, f1_score)\n",
    "\n",
    "# Importing LogisticRegression for logistic regression models\n",
    "from sklearn.linear_model import LogisticRegression\n",
    "\n",
    "# Importing RandomForestClassifier for random forest models\n",
    "from sklearn.ensemble import RandomForestClassifier\n",
    "\n",
    "# Importing metrics module for additional evaluation metrics\n",
    "from sklearn import metrics\n",
    "\n",
    "# Importing xgboost library for gradient boosting algorithms\n",
    "import xgboost as xgb\n",
    "\n",
    "# Importing the SMOTE library for oversampling minority target variables\n",
    "from imblearn.over_sampling import SMOTE\n",
    "\n",
    "# Importing RandomSearchCV library for hypertuning the base models\n",
    "from sklearn.model_selection import RandomizedSearchCV\n",
    "\n",
    "# Importing XGBClassifier library\n",
    "from xgboost import XGBClassifier\n"
   ]
  },
  {
   "cell_type": "markdown",
   "id": "d52bb2c5",
   "metadata": {
    "id": "d52bb2c5"
   },
   "source": [
    " "
   ]
  },
  {
   "cell_type": "markdown",
   "id": "4e075efd",
   "metadata": {
    "id": "4e075efd"
   },
   "source": [
    "### 3b. Split normalized TVS dataset into 80% Training and 20% testing and implement SMOTE"
   ]
  },
  {
   "cell_type": "code",
   "execution_count": null,
   "id": "35add5cd",
   "metadata": {
    "id": "35add5cd"
   },
   "outputs": [],
   "source": [
    "\n",
    "# Creating a DataFrame 'X' by dropping the 'V32' column from 'data4_normal'\n",
    "X = data4_normal.drop('V32', axis=1)\n",
    "\n",
    "# Creating a Series 'y' with the values from the 'V32' column of 'data4_normal'\n",
    "y = data4_normal['V32']\n",
    "\n",
    "# Split data into 80% training and 20% testing\n",
    "X_train, X_test, y_train, y_test = train_test_split(X, y, test_size = 0.2, random_state = 42 )"
   ]
  },
  {
   "cell_type": "markdown",
   "id": "a469bb49",
   "metadata": {
    "id": "a469bb49"
   },
   "source": [
    " "
   ]
  },
  {
   "cell_type": "code",
   "execution_count": null,
   "id": "8d782d62",
   "metadata": {
    "id": "8d782d62"
   },
   "outputs": [],
   "source": [
    "\n",
    "# Creating an instance of SMOTE\n",
    "smote = SMOTE()\n",
    "\n",
    "# Applying SMOTE to the training data (X_train and y_train) to balance the class distribution\n",
    "X_smote, y_smote = smote.fit_resample(X_train, y_train)"
   ]
  },
  {
   "cell_type": "markdown",
   "id": "ca02f6a1",
   "metadata": {
    "id": "ca02f6a1"
   },
   "source": [
    " "
   ]
  },
  {
   "cell_type": "markdown",
   "id": "dec3e7cc",
   "metadata": {
    "id": "dec3e7cc"
   },
   "source": [
    "### (i) Logistic Regression Base model"
   ]
  },
  {
   "cell_type": "code",
   "execution_count": null,
   "id": "dbaa4f0f",
   "metadata": {
    "colab": {
     "base_uri": "https://localhost:8080/"
    },
    "id": "dbaa4f0f",
    "outputId": "95d006f5-b3b3-448d-b31a-0a18996c40cc"
   },
   "outputs": [],
   "source": [
    "\n",
    "# Creating an instance of LogisticRegression\n",
    "lr = LogisticRegression()\n",
    "\n",
    "# Fitting the logistic regression model to the resampled data (X_smote and y_smote)\n",
    "lr.fit(X_smote, y_smote)\n",
    "\n",
    "# Predicting the target variable for the test data (X_test) using the trained model\n",
    "y_predict = lr.predict(X_test)\n"
   ]
  },
  {
   "cell_type": "markdown",
   "id": "94c76e31",
   "metadata": {
    "id": "A0ep4v922D6a"
   },
   "source": [
    " "
   ]
  },
  {
   "cell_type": "markdown",
   "id": "0bf12eae",
   "metadata": {},
   "source": [
    "#### Print Logistic Regression Base Model Evaluation metrics"
   ]
  },
  {
   "cell_type": "code",
   "execution_count": null,
   "id": "hml_0G642Ges",
   "metadata": {
    "colab": {
     "base_uri": "https://localhost:8080/"
    },
    "id": "hml_0G642Ges",
    "outputId": "3e16f233-e8e3-492d-9cd1-4bff6d8ffca4"
   },
   "outputs": [],
   "source": [
    "# Print the recall score\n",
    "print(recall_score(y_test, y_predict))\n",
    "\n",
    "# Print the precision score\n",
    "print(precision_score(y_test, y_predict))\n",
    "\n",
    "# Print the weighted F1 score\n",
    "print(f1_score(y_test, y_predict, average='weighted'))\n"
   ]
  },
  {
   "cell_type": "markdown",
   "id": "cd0cef27",
   "metadata": {},
   "source": [
    " "
   ]
  },
  {
   "cell_type": "markdown",
   "id": "3eca9d2e",
   "metadata": {},
   "source": [
    "#### Display Logistic Regression Base model ROC/AUC Curve"
   ]
  },
  {
   "cell_type": "code",
   "execution_count": null,
   "id": "pPwYkI0G5Z_t",
   "metadata": {
    "colab": {
     "base_uri": "https://localhost:8080/",
     "height": 449
    },
    "id": "pPwYkI0G5Z_t",
    "outputId": "188dec3c-9685-4892-c291-9a0950c9c3d9"
   },
   "outputs": [],
   "source": [
    "# Predict the probabilities of the positive class (class 1) using best_model and X_test\n",
    "y_pred_proba_1 = lr.predict_proba(X_test)[:, 1]\n",
    "\n",
    "# Compute the false positive rate, true positive rate, and thresholds using y_test and y_pred_proba_1\n",
    "fpr, tpr, _ = metrics.roc_curve(y_test, y_pred_proba_1)\n",
    "\n",
    "# Compute the area under the ROC curve (AUC) using y_test and y_pred_proba_1\n",
    "auc = metrics.roc_auc_score(y_test, y_pred_proba_1)\n",
    "\n",
    "# Create ROC curve\n",
    "\n",
    "# Plot the ROC curve with false positive rate (x-axis) and true positive rate (y-axis)\n",
    "plt.plot(fpr, tpr, label=\"AUC=\" + str(auc))\n",
    "\n",
    "# Set the y-axis label\n",
    "plt.ylabel(\"True Positive Rate\")\n",
    "\n",
    "# Set the x-axis label\n",
    "plt.xlabel(\"False Positive Rate\")\n",
    "\n",
    "# Add a legend to the plot at the lower-right corner\n",
    "plt.legend(loc=4)\n",
    "\n",
    "# Display the plot\n",
    "plt.show()"
   ]
  },
  {
   "cell_type": "markdown",
   "id": "5ccb861f",
   "metadata": {
    "id": "hFYuAS1AUq71"
   },
   "source": [
    " "
   ]
  },
  {
   "cell_type": "markdown",
   "id": "432d6d70",
   "metadata": {},
   "source": [
    "#### Display Logistic Regression Base model confusion matrix"
   ]
  },
  {
   "cell_type": "code",
   "execution_count": null,
   "id": "_BY7432DUrq8",
   "metadata": {
    "colab": {
     "base_uri": "https://localhost:8080/",
     "height": 472
    },
    "id": "_BY7432DUrq8",
    "outputId": "77830ba9-abe0-447d-9bec-c32bdd49c8d5"
   },
   "outputs": [],
   "source": [
    "# Computing the confusion matrix using y_test and y_predict\n",
    "cm_a = confusion_matrix(y_test, y_predict)\n",
    "\n",
    "# Creating a heatmap of the confusion matrix\n",
    "sns.heatmap(cm_a, cmap=\"Blues\", annot=True, xticklabels=[0, 1], yticklabels=[0, 1])\n",
    "\n",
    "# Setting the title of the plot\n",
    "plt.title(\"Confusion Matrix Plot\")\n",
    "\n",
    "# Setting the x-axis label\n",
    "plt.xlabel(\"Predicted\")\n",
    "\n",
    "# Setting the y-axis label\n",
    "plt.ylabel(\"Actual\")\n",
    "\n",
    "# Displaying the plot\n",
    "plt.show()"
   ]
  },
  {
   "cell_type": "markdown",
   "id": "b9Ww4fH62E39",
   "metadata": {
    "id": "b9Ww4fH62E39"
   },
   "source": [
    " "
   ]
  },
  {
   "cell_type": "markdown",
   "id": "63afb38a",
   "metadata": {
    "id": "63afb38a"
   },
   "source": [
    "####  Logistic Regression Hypertuned model"
   ]
  },
  {
   "cell_type": "code",
   "execution_count": null,
   "id": "dd9c19d8",
   "metadata": {
    "colab": {
     "base_uri": "https://localhost:8080/"
    },
    "id": "dd9c19d8",
    "outputId": "c0914688-6d69-44b4-aa8e-568923afdccf"
   },
   "outputs": [],
   "source": [
    "\n",
    "# Define the hyperparameter grid\n",
    "param_grid = {\n",
    "    'penalty': ['l1', 'l2'],\n",
    "    'C': [0.001, 0.01, 0.1, 1, 10, 100],\n",
    "    'solver': ['liblinear', 'saga'],\n",
    "    'max_iter': [100, 200, 300]\n",
    "}\n",
    "\n",
    "# Create an instance of RandomizedSearchCV\n",
    "random_search = RandomizedSearchCV(estimator=lr, param_distributions=param_grid,\n",
    "                                   scoring='accuracy', n_iter=10, cv=5, random_state=42)\n",
    "\n",
    "# Perform the random search\n",
    "random_search.fit(X_smote, y_smote)\n",
    "\n",
    "# Print the best hyperparameters found\n",
    "print(\"Best Hyperparameters:\", random_search.best_params_)\n",
    "\n",
    "# Get the best model\n",
    "best_model = random_search.best_estimator_\n",
    "\n",
    "# Make predictions using the best model\n",
    "y_pred_1 = best_model.predict(X_test)\n"
   ]
  },
  {
   "cell_type": "markdown",
   "id": "2cff08f4",
   "metadata": {},
   "source": [
    " "
   ]
  },
  {
   "cell_type": "markdown",
   "id": "ae17b874",
   "metadata": {},
   "source": [
    "#### Print Logistic Regression Tuned Model Evaluation metrics"
   ]
  },
  {
   "cell_type": "code",
   "execution_count": null,
   "id": "GOGjQP2C2J78",
   "metadata": {
    "colab": {
     "base_uri": "https://localhost:8080/"
    },
    "id": "GOGjQP2C2J78",
    "outputId": "4a082d71-e841-4903-a5a9-9b5a31680426"
   },
   "outputs": [],
   "source": [
    "\n",
    "# Print tuned model recall\n",
    "print(recall_score(y_test, y_pred_1))\n",
    "\n",
    "# Print tuned model precision score\n",
    "print(precision_score(y_test, y_pred_1))\n",
    "\n",
    "# Print tuned model F1-Score\n",
    "print(f1_score(y_test, y_pred_1, average = 'weighted'))"
   ]
  },
  {
   "cell_type": "markdown",
   "id": "db359d48",
   "metadata": {
    "id": "db359d48"
   },
   "source": [
    " "
   ]
  },
  {
   "cell_type": "markdown",
   "id": "313a467d",
   "metadata": {
    "id": "313a467d"
   },
   "source": [
    "#### LogisticRegression Hypertuned Model Confusion Matrix"
   ]
  },
  {
   "cell_type": "code",
   "execution_count": null,
   "id": "6598a482",
   "metadata": {
    "colab": {
     "base_uri": "https://localhost:8080/",
     "height": 472
    },
    "id": "6598a482",
    "outputId": "0070eb0b-9f55-4301-ff8c-0631e14689ee"
   },
   "outputs": [],
   "source": [
    "# Computing the confusion matrix using y_test and y_pred_1\n",
    "cm = confusion_matrix(y_test, y_pred_1)\n",
    "\n",
    "# Creating a heatmap of the confusion matrix\n",
    "sns.heatmap(cm, cmap=\"Blues\", annot=True, xticklabels=[0, 1], yticklabels=[0, 1])\n",
    "\n",
    "# Setting the title of the plot\n",
    "plt.title(\"Confusion Matrix Plot\")\n",
    "\n",
    "# Setting the x-axis label\n",
    "plt.xlabel(\"Predicted\")\n",
    "\n",
    "# Setting the y-axis label\n",
    "plt.ylabel(\"Actual\")\n",
    "\n",
    "# Displaying the plot\n",
    "plt.show()"
   ]
  },
  {
   "cell_type": "markdown",
   "id": "27315fa8",
   "metadata": {
    "id": "27315fa8"
   },
   "source": [
    " "
   ]
  },
  {
   "cell_type": "markdown",
   "id": "a47de2ad",
   "metadata": {
    "id": "a47de2ad"
   },
   "source": [
    "#### LogisticRegression Hypertuned Model ROC Curve"
   ]
  },
  {
   "cell_type": "code",
   "execution_count": null,
   "id": "287c804b",
   "metadata": {
    "colab": {
     "base_uri": "https://localhost:8080/",
     "height": 449
    },
    "id": "287c804b",
    "outputId": "0aabb5f7-4adc-45d2-859c-369e4fff5eca"
   },
   "outputs": [],
   "source": [
    "\n",
    "# Predict the probabilities of the positive class (class 1) using best_model and X_test\n",
    "y_pred_proba = best_model.predict_proba(X_test)[:, 1]\n",
    "\n",
    "# Compute the false positive rate, true positive rate, and thresholds using y_test and y_pred_proba\n",
    "fpr, tpr, _ = metrics.roc_curve(y_test, y_pred_proba)\n",
    "\n",
    "# Compute the area under the ROC curve (AUC) using y_test and y_pred_proba\n",
    "auc = metrics.roc_auc_score(y_test, y_pred_proba)\n",
    "\n",
    "# Create ROC curve\n",
    "\n",
    "# Plot the ROC curve with false positive rate (x-axis) and true positive rate (y-axis)\n",
    "plt.plot(fpr, tpr, label=\"AUC=\" + str(auc))\n",
    "\n",
    "# Set the y-axis label\n",
    "plt.ylabel(\"True Positive Rate\")\n",
    "\n",
    "# Set the x-axis label\n",
    "plt.xlabel(\"False Positive Rate\")\n",
    "\n",
    "# Add a legend to the plot at the lower-right corner\n",
    "plt.legend(loc=4)\n",
    "\n",
    "# Display the plot\n",
    "plt.show()\n"
   ]
  },
  {
   "cell_type": "code",
   "execution_count": null,
   "id": "42dbe4f6",
   "metadata": {
    "colab": {
     "base_uri": "https://localhost:8080/"
    },
    "id": "42dbe4f6",
    "outputId": "daec9d56-1bcc-4712-f4b2-62cdf884d4d0"
   },
   "outputs": [],
   "source": [
    "\n",
    "# Evaluating model performance\n",
    "class_report = classification_report(y_test, y_pred_1);\n",
    "\n",
    "print(class_report)"
   ]
  },
  {
   "cell_type": "markdown",
   "id": "5717734f",
   "metadata": {
    "id": "5717734f"
   },
   "source": [
    " "
   ]
  },
  {
   "cell_type": "markdown",
   "id": "bd7f69bf",
   "metadata": {
    "id": "bd7f69bf"
   },
   "source": [
    "### (ii) RandomForest Base Model"
   ]
  },
  {
   "cell_type": "code",
   "execution_count": null,
   "id": "3626bc75",
   "metadata": {
    "id": "3626bc75"
   },
   "outputs": [],
   "source": [
    "\n",
    "# Creating an instance of RandomForestClassifier with specified hyperparameters\n",
    "rf = RandomForestClassifier(n_estimators=200, max_depth=2, random_state=0)\n",
    "\n",
    "# Fitting the random forest model to the resampled data (X_smote and y_smote)\n",
    "rf.fit(X_smote, y_smote)\n",
    "\n",
    "# Predicting the target variable for the test data (X_test) using the trained model\n",
    "y_predict2 = rf.predict(X_test)\n"
   ]
  },
  {
   "cell_type": "markdown",
   "id": "19fa74f0",
   "metadata": {},
   "source": [
    " "
   ]
  },
  {
   "cell_type": "markdown",
   "id": "b7499c33",
   "metadata": {},
   "source": [
    "#### Print Random Forest Base Model Evaluation metrics"
   ]
  },
  {
   "cell_type": "code",
   "execution_count": null,
   "id": "3kTpQqMD2bfE",
   "metadata": {
    "colab": {
     "base_uri": "https://localhost:8080/"
    },
    "id": "3kTpQqMD2bfE",
    "outputId": "825ec51d-f26f-432d-8169-af8e669e20de"
   },
   "outputs": [],
   "source": [
    "\n",
    "# Print base model recall\n",
    "print(recall_score(y_test, y_predict2))\n",
    "\n",
    "# Print base model precision\n",
    "print(precision_score(y_test, y_predict2))\n",
    "\n",
    "# Print base model F1-score\n",
    "print(f1_score(y_test, y_predict2, average = 'weighted'))"
   ]
  },
  {
   "cell_type": "markdown",
   "id": "4cd1365e",
   "metadata": {},
   "source": [
    " "
   ]
  },
  {
   "cell_type": "markdown",
   "id": "1f754b3b",
   "metadata": {},
   "source": [
    "#### Display Random Forest Base model ROC/AUC Curve"
   ]
  },
  {
   "cell_type": "code",
   "execution_count": null,
   "id": "7trrVfDl6A_N",
   "metadata": {
    "colab": {
     "base_uri": "https://localhost:8080/",
     "height": 449
    },
    "id": "7trrVfDl6A_N",
    "outputId": "2010445b-38f9-4b4e-b6a9-a81cf05ea88e"
   },
   "outputs": [],
   "source": [
    "# Predict the probabilities of the positive class (class 1) using best_model and X_test\n",
    "y_pred_proba_2 = rf.predict_proba(X_test)[:, 1]\n",
    "\n",
    "# Compute the false positive rate, true positive rate, and thresholds using y_test and y_pred_proba\n",
    "fpr, tpr, _ = metrics.roc_curve(y_test, y_pred_proba_2)\n",
    "\n",
    "# Compute the area under the ROC curve (AUC) using y_test and y_pred_proba\n",
    "auc = metrics.roc_auc_score(y_test, y_pred_proba_2)\n",
    "\n",
    "# Create ROC curve\n",
    "\n",
    "# Plot the ROC curve with false positive rate (x-axis) and true positive rate (y-axis)\n",
    "plt.plot(fpr, tpr, label=\"AUC=\" + str(auc))\n",
    "\n",
    "# Set the y-axis label\n",
    "plt.ylabel(\"True Positive Rate\")\n",
    "\n",
    "# Set the x-axis label\n",
    "plt.xlabel(\"False Positive Rate\")\n",
    "\n",
    "# Add a legend to the plot at the lower-right corner\n",
    "plt.legend(loc=4)\n",
    "\n",
    "# Display the plot\n",
    "plt.show()"
   ]
  },
  {
   "cell_type": "markdown",
   "id": "dd90ec3c",
   "metadata": {},
   "source": [
    " "
   ]
  },
  {
   "cell_type": "markdown",
   "id": "732b7568",
   "metadata": {},
   "source": [
    "#### Display Random Forest Base model ROC/AUC Curve"
   ]
  },
  {
   "cell_type": "code",
   "execution_count": null,
   "id": "_305aqd7_GqE",
   "metadata": {
    "colab": {
     "base_uri": "https://localhost:8080/",
     "height": 235
    },
    "id": "_305aqd7_GqE",
    "outputId": "bd19a68e-0a3e-406f-8054-1ebfae0a2441"
   },
   "outputs": [],
   "source": [
    "# Computing the confusion matrix using y_test and y_predict2\n",
    "cm_b = confusion_matrix(y_test, y_predict2)\n",
    "\n",
    "# Creating a heatmap of the confusion matrix\n",
    "sns.heatmap(cm_b, cmap=\"Blues\", annot=True, xticklabels=[0, 1], yticklabels=[0, 1])\n",
    "\n",
    "# Setting the title of the plot\n",
    "plt.title(\"Confusion Matrix Plot\")\n",
    "\n",
    "# Setting the x-axis label\n",
    "plt.xlabel(\"Predicted\")\n",
    "\n",
    "# Setting the y-axis label\n",
    "plt.ylabel(\"Actual\")\n",
    "\n",
    "# Displaying the plot\n",
    "plt.show()"
   ]
  },
  {
   "cell_type": "markdown",
   "id": "24a1014b",
   "metadata": {
    "id": "24a1014b"
   },
   "source": [
    " "
   ]
  },
  {
   "cell_type": "markdown",
   "id": "97aed220",
   "metadata": {
    "id": "97aed220"
   },
   "source": [
    "####  RandomForest Hypertuned model"
   ]
  },
  {
   "cell_type": "code",
   "execution_count": null,
   "id": "3f7b9550",
   "metadata": {
    "colab": {
     "base_uri": "https://localhost:8080/"
    },
    "id": "3f7b9550",
    "outputId": "e5e328ff-27c8-4d28-f076-0cdb8448cfa4"
   },
   "outputs": [],
   "source": [
    "\n",
    "# Define the hyperparameter grid\n",
    "param_grid = {\n",
    "    'n_estimators': [100, 200, 300],\n",
    "    'max_depth': [None, 5, 10],\n",
    "    'min_samples_split': [2, 5, 10],\n",
    "    'min_samples_leaf': [1, 2, 4],\n",
    "    'bootstrap': [True, False]\n",
    "}\n",
    "\n",
    "# Create an instance of RandomizedSearchCV\n",
    "random_search = RandomizedSearchCV(estimator=rf, param_distributions=param_grid,\n",
    "                                   scoring='accuracy', n_iter=10, cv=5, random_state=42)\n",
    "\n",
    "# Perform the random search\n",
    "random_search.fit(X_smote, y_smote)\n",
    "\n",
    "# Print the best hyperparameters found\n",
    "print(\"Best Hyperparameters:\", random_search.best_params_)\n",
    "\n",
    "# Get the best model\n",
    "best_model_2 = random_search.best_estimator_\n",
    "\n",
    "# Make predictions using the best model\n",
    "y_pred_2 = best_model_2.predict(X_test)\n"
   ]
  },
  {
   "cell_type": "markdown",
   "id": "4ba159d6",
   "metadata": {},
   "source": [
    " "
   ]
  },
  {
   "cell_type": "markdown",
   "id": "e3f0a109",
   "metadata": {},
   "source": [
    "#### Print Random Forest Tuned Model Evaluation metrics"
   ]
  },
  {
   "cell_type": "code",
   "execution_count": null,
   "id": "hfFNHdqC2y7p",
   "metadata": {
    "colab": {
     "base_uri": "https://localhost:8080/"
    },
    "id": "hfFNHdqC2y7p",
    "outputId": "f7c617fa-3c88-4637-bd56-f5e686feb1a0"
   },
   "outputs": [],
   "source": [
    "\n",
    "# Print tuned model recall\n",
    "print(recall_score(y_test, y_pred_2))\n",
    "\n",
    "# Print tuned model precision score\n",
    "print(precision_score(y_test, y_pred_2))\n",
    "\n",
    "# Print tuned model F1-score\n",
    "print(f1_score(y_test, y_pred_2, average = 'weighted'))"
   ]
  },
  {
   "cell_type": "markdown",
   "id": "05b7a241",
   "metadata": {
    "id": "05b7a241"
   },
   "source": [
    "  "
   ]
  },
  {
   "cell_type": "markdown",
   "id": "7608c69a",
   "metadata": {
    "id": "7608c69a"
   },
   "source": [
    "#### RandomForest Hypertuned Model Confusion Matrix"
   ]
  },
  {
   "cell_type": "code",
   "execution_count": null,
   "id": "335351d0",
   "metadata": {
    "colab": {
     "base_uri": "https://localhost:8080/",
     "height": 472
    },
    "id": "335351d0",
    "outputId": "c10316e6-3d1a-495c-ea40-a39ea812102b"
   },
   "outputs": [],
   "source": [
    "# Computing the confusion matrix using y_test and y_pred_2\n",
    "cm2 = confusion_matrix(y_test, y_pred_2)\n",
    "\n",
    "# Creating a heatmap of the confusion matrix\n",
    "sns.heatmap(cm2, cmap=\"Blues\", annot=True, xticklabels=[0, 1], yticklabels=[0, 1])\n",
    "\n",
    "# Setting the title of the plot\n",
    "plt.title(\"Confusion Matrix Plot\")\n",
    "\n",
    "# Setting the x-axis label\n",
    "plt.xlabel(\"Predicted\")\n",
    "\n",
    "# Setting the y-axis label\n",
    "plt.ylabel(\"Actual\")\n",
    "\n",
    "# Displaying the plot\n",
    "plt.show()\n"
   ]
  },
  {
   "cell_type": "markdown",
   "id": "69ce05be",
   "metadata": {
    "id": "69ce05be"
   },
   "source": [
    " "
   ]
  },
  {
   "cell_type": "markdown",
   "id": "9781b922",
   "metadata": {
    "id": "9781b922"
   },
   "source": [
    "#### RandomForest Hypertuned Model ROC Curve"
   ]
  },
  {
   "cell_type": "code",
   "execution_count": null,
   "id": "3b035079",
   "metadata": {
    "colab": {
     "base_uri": "https://localhost:8080/",
     "height": 449
    },
    "id": "3b035079",
    "outputId": "781e4a5e-1e28-4224-ec1c-29a5dc6266f5",
    "scrolled": true
   },
   "outputs": [],
   "source": [
    "\n",
    "# Predict the probabilities of the positive class (class 1) using best_model_2 and X_test\n",
    "y_pred_proba2 = best_model_2.predict_proba(X_test)[:, 1]\n",
    "\n",
    "# Compute the false positive rate, true positive rate, and thresholds using y_test and y_pred_proba2\n",
    "fpr, tpr, _ = metrics.roc_curve(y_test, y_pred_proba2)\n",
    "\n",
    "# Compute the area under the ROC curve (AUC) using y_test and y_pred_proba2\n",
    "auc = metrics.roc_auc_score(y_test, y_pred_proba2)\n",
    "\n",
    "# Create ROC curve\n",
    "\n",
    "# Plot the ROC curve with false positive rate (x-axis) and true positive rate (y-axis)\n",
    "plt.plot(fpr, tpr, label=\"AUC=\" + str(auc))\n",
    "\n",
    "# Set the y-axis label\n",
    "plt.ylabel(\"True Positive Rate\")\n",
    "\n",
    "# Set the x-axis label\n",
    "plt.xlabel(\"False Positive Rate\")\n",
    "\n",
    "# Add a legend to the plot at the lower-right corner\n",
    "plt.legend(loc=4)\n",
    "\n",
    "# Display the plot\n",
    "plt.show()\n"
   ]
  },
  {
   "cell_type": "markdown",
   "id": "8e76ac8e",
   "metadata": {
    "id": "8e76ac8e"
   },
   "source": [
    " "
   ]
  },
  {
   "cell_type": "markdown",
   "id": "5402d5f3",
   "metadata": {
    "id": "5402d5f3"
   },
   "source": [
    "#### RandomForest Hypertuned Model Classification Report"
   ]
  },
  {
   "cell_type": "code",
   "execution_count": null,
   "id": "3cfb3976",
   "metadata": {
    "colab": {
     "base_uri": "https://localhost:8080/"
    },
    "id": "3cfb3976",
    "outputId": "da6201e6-6d9a-42b9-94dc-c5c3d0f58be2"
   },
   "outputs": [],
   "source": [
    "\n",
    "# Evaluating RandomForest Hypertuned Model Performance\n",
    "class_report_2 = classification_report(y_test, y_pred_2);\n",
    "\n",
    "print(class_report_2)"
   ]
  },
  {
   "cell_type": "markdown",
   "id": "1c9294a0",
   "metadata": {
    "id": "1c9294a0"
   },
   "source": [
    " "
   ]
  },
  {
   "cell_type": "markdown",
   "id": "bf5cb85b",
   "metadata": {
    "id": "bf5cb85b"
   },
   "source": [
    " "
   ]
  },
  {
   "cell_type": "markdown",
   "id": "810384bd",
   "metadata": {
    "id": "810384bd"
   },
   "source": [
    "### (iii) Extreme Gradient Boosting (XGBoost) Base Model"
   ]
  },
  {
   "cell_type": "code",
   "execution_count": null,
   "id": "b6ccee3d",
   "metadata": {
    "id": "b6ccee3d"
   },
   "outputs": [],
   "source": [
    "\n",
    "# Creating an instance of XGBClassifier with specified hyperparameters\n",
    "clf = XGBClassifier(max_depth=3, learning_rate=0.1, n_estimators=500,\n",
    "                    objective='binary:logistic', booster='gbtree')\n",
    "\n",
    "# Fitting the XGBoost model to the resampled data (X_smote and y_smote)\n",
    "clf.fit(X_smote, y_smote)\n",
    "\n",
    "# Predicting the target variable for the test data (X_test) using the trained model\n",
    "y_predict3 = clf.predict(X_test)"
   ]
  },
  {
   "cell_type": "markdown",
   "id": "1419de9d",
   "metadata": {},
   "source": [
    " "
   ]
  },
  {
   "cell_type": "markdown",
   "id": "3974212c",
   "metadata": {},
   "source": [
    "#### Print XGBoost Base Model Evaluation metrics"
   ]
  },
  {
   "cell_type": "code",
   "execution_count": null,
   "id": "dteb9b6m3W6I",
   "metadata": {
    "colab": {
     "base_uri": "https://localhost:8080/"
    },
    "id": "dteb9b6m3W6I",
    "outputId": "abeb1ebe-6db7-45ad-dc3e-a87f2d756c95"
   },
   "outputs": [],
   "source": [
    "\n",
    "# Print base model recall\n",
    "print(recall_score(y_test, y_predict3))\n",
    "\n",
    "# Print base model precision score\n",
    "print(precision_score(y_test, y_predict3))\n",
    "\n",
    "# Print base model F1-Score\n",
    "print(f1_score(y_test, y_predict3, average = 'weighted'))"
   ]
  },
  {
   "cell_type": "markdown",
   "id": "b77d85c9",
   "metadata": {},
   "source": [
    " "
   ]
  },
  {
   "cell_type": "markdown",
   "id": "6047eea8",
   "metadata": {},
   "source": [
    "#### Display XGBoost Base Model ROC/AUC Score"
   ]
  },
  {
   "cell_type": "code",
   "execution_count": null,
   "id": "c9eGHjzz66An",
   "metadata": {
    "colab": {
     "base_uri": "https://localhost:8080/",
     "height": 449
    },
    "id": "c9eGHjzz66An",
    "outputId": "4dcd3ebb-9369-4a2b-9af0-a4862dc73082"
   },
   "outputs": [],
   "source": [
    "# Predict the probabilities of the positive class (class 1) using best_model and X_test\n",
    "y_pred_proba_3 = clf.predict_proba(X_test)[:, 1]\n",
    "\n",
    "# Compute the false positive rate, true positive rate, and thresholds using y_test and y_pred_proba\n",
    "fpr, tpr, _ = metrics.roc_curve(y_test, y_pred_proba_3)\n",
    "\n",
    "# Compute the area under the ROC curve (AUC) using y_test and y_pred_proba\n",
    "auc = metrics.roc_auc_score(y_test, y_pred_proba_3)\n",
    "\n",
    "# Create ROC curve\n",
    "\n",
    "# Plot the ROC curve with false positive rate (x-axis) and true positive rate (y-axis)\n",
    "plt.plot(fpr, tpr, label=\"AUC=\" + str(auc))\n",
    "\n",
    "# Set the y-axis label\n",
    "plt.ylabel(\"True Positive Rate\")\n",
    "\n",
    "# Set the x-axis label\n",
    "plt.xlabel(\"False Positive Rate\")\n",
    "\n",
    "# Add a legend to the plot at the lower-right corner\n",
    "plt.legend(loc=4)\n",
    "\n",
    "# Display the plot\n",
    "plt.show()"
   ]
  },
  {
   "cell_type": "markdown",
   "id": "2fd62db5",
   "metadata": {
    "id": "7mpynDVrJkaF"
   },
   "source": [
    " "
   ]
  },
  {
   "cell_type": "markdown",
   "id": "78efc93e",
   "metadata": {},
   "source": [
    "#### Display XGBoost Base Model Confusion matrix"
   ]
  },
  {
   "cell_type": "code",
   "execution_count": null,
   "id": "43Yk9zfXJlP7",
   "metadata": {
    "colab": {
     "base_uri": "https://localhost:8080/",
     "height": 235
    },
    "id": "43Yk9zfXJlP7",
    "outputId": "67be7a2f-81ef-458a-9ba5-68c9302c988a"
   },
   "outputs": [],
   "source": [
    "# Computing the confusion matrix using y_test and y_predict3\n",
    "cm_c = confusion_matrix(y_test, y_predict3)\n",
    "\n",
    "# Creating a heatmap of the confusion matrix\n",
    "sns.heatmap(cm_c, cmap=\"Blues\", annot=True, xticklabels=[0, 1], yticklabels=[0, 1])\n",
    "\n",
    "# Setting the title of the plot\n",
    "plt.title(\"Confusion Matrix Plot\")\n",
    "\n",
    "# Setting the x-axis label\n",
    "plt.xlabel(\"Predicted\")\n",
    "\n",
    "# Setting the y-axis label\n",
    "plt.ylabel(\"Actual\")\n",
    "\n",
    "# Displaying the plot\n",
    "plt.show()"
   ]
  },
  {
   "cell_type": "markdown",
   "id": "c9419f6b",
   "metadata": {
    "id": "c9419f6b"
   },
   "source": [
    " "
   ]
  },
  {
   "cell_type": "markdown",
   "id": "23a8fbf4",
   "metadata": {
    "id": "23a8fbf4"
   },
   "source": [
    "####  XGBoost Hypertuned model"
   ]
  },
  {
   "cell_type": "code",
   "execution_count": null,
   "id": "012bd446",
   "metadata": {
    "colab": {
     "base_uri": "https://localhost:8080/"
    },
    "id": "012bd446",
    "outputId": "041e7d8a-c59a-4ab0-f1e0-114bbc0112e9"
   },
   "outputs": [],
   "source": [
    "\n",
    "# Define the hyperparameter grid\n",
    "param_grid = {\n",
    "    'max_depth': [3, 4, 5],\n",
    "    'learning_rate': [0.1, 0.01, 0.001],\n",
    "    'n_estimators': [100, 200, 300],\n",
    "    'gamma': [0, 0.1, 0.2],\n",
    "    'subsample': [0.8, 0.9, 1.0],\n",
    "    'colsample_bytree': [0.8, 0.9, 1.0],\n",
    "    'reg_alpha': [0, 0.1, 0.5],\n",
    "    'reg_lambda': [0, 0.1, 0.5]\n",
    "}\n",
    "\n",
    "# Create an instance of RandomizedSearchCV\n",
    "random_search = RandomizedSearchCV(estimator=clf, param_distributions=param_grid,\n",
    "                                   scoring='accuracy', n_iter=10, cv=5, random_state=42)\n",
    "\n",
    "# Perform the random search\n",
    "random_search.fit(X_smote, y_smote)\n",
    "\n",
    "# Print the best hyperparameters found\n",
    "print(\"Best Hyperparameters:\", random_search.best_params_)\n",
    "\n",
    "# Get the best model\n",
    "best_model_3 = random_search.best_estimator_\n",
    "\n",
    "# Make predictions using the best model\n",
    "y_pred_3 = best_model_3.predict(X_test)\n"
   ]
  },
  {
   "cell_type": "markdown",
   "id": "28b06183",
   "metadata": {},
   "source": [
    " "
   ]
  },
  {
   "cell_type": "markdown",
   "id": "2b950363",
   "metadata": {},
   "source": [
    "#### Display XGBoost Tuned Model Evaluation metrics"
   ]
  },
  {
   "cell_type": "code",
   "execution_count": null,
   "id": "_WxtptdQ3nPu",
   "metadata": {
    "colab": {
     "base_uri": "https://localhost:8080/"
    },
    "id": "_WxtptdQ3nPu",
    "outputId": "7eee90f2-c72d-4b98-b3ab-774c1105ccf3"
   },
   "outputs": [],
   "source": [
    "\n",
    "# Print tuned model recall\n",
    "print(recall_score(y_test, y_pred_3))\n",
    "\n",
    "# Print tuned model precision\n",
    "print(precision_score(y_test, y_pred_3))\n",
    "\n",
    "# Print tuned model F1-Score\n",
    "print(f1_score(y_test, y_pred_3, average = 'weighted'))"
   ]
  },
  {
   "cell_type": "markdown",
   "id": "f379a4b0",
   "metadata": {
    "id": "f379a4b0"
   },
   "source": [
    " "
   ]
  },
  {
   "cell_type": "markdown",
   "id": "7620f114",
   "metadata": {
    "id": "7620f114"
   },
   "source": [
    "#### XGBoost Hypertuned Model Confusion Matrix"
   ]
  },
  {
   "cell_type": "code",
   "execution_count": null,
   "id": "e3c4aaa6",
   "metadata": {
    "colab": {
     "base_uri": "https://localhost:8080/",
     "height": 472
    },
    "id": "e3c4aaa6",
    "outputId": "f53cdba6-45c9-44f2-c926-44c344dab9ed"
   },
   "outputs": [],
   "source": [
    "\n",
    "# Computing the confusion matrix using y_test and y_pred_3\n",
    "cm3 = confusion_matrix(y_test, y_pred_3)\n",
    "\n",
    "# Creating a heatmap of the confusion matrix\n",
    "sns.heatmap(cm3, cmap=\"Blues\", annot=True, xticklabels=[0, 1], yticklabels=[0, 1])\n",
    "\n",
    "# Setting the title of the plot\n",
    "plt.title(\"Confusion Matrix Plot\")\n",
    "\n",
    "# Setting the x-axis label\n",
    "plt.xlabel(\"Predicted\")\n",
    "\n",
    "# Setting the y-axis label\n",
    "plt.ylabel(\"Actual\")\n",
    "\n",
    "# Displaying the plot\n",
    "plt.show()\n"
   ]
  },
  {
   "cell_type": "markdown",
   "id": "bd585a9b",
   "metadata": {
    "id": "bd585a9b"
   },
   "source": [
    " "
   ]
  },
  {
   "cell_type": "markdown",
   "id": "ef425c47",
   "metadata": {
    "id": "ef425c47"
   },
   "source": [
    "#### XGBoost Hypertuned Model ROC Curve"
   ]
  },
  {
   "cell_type": "code",
   "execution_count": null,
   "id": "c25474f6",
   "metadata": {
    "colab": {
     "base_uri": "https://localhost:8080/",
     "height": 449
    },
    "id": "c25474f6",
    "outputId": "e0cea217-67e7-40ee-eefd-e161eb1d9b0f"
   },
   "outputs": [],
   "source": [
    "\n",
    "# Predict the probabilities of the positive class (class 1) using best_model_3 and X_test\n",
    "y_pred_proba3 = best_model_3.predict_proba(X_test)[:, 1]\n",
    "\n",
    "# Compute the false positive rate, true positive rate, and thresholds using y_test and y_pred_proba3\n",
    "fpr, tpr, _ = metrics.roc_curve(y_test, y_pred_proba3)\n",
    "\n",
    "# Compute the area under the ROC curve (AUC) using y_test and y_pred_proba3\n",
    "auc = metrics.roc_auc_score(y_test, y_pred_proba3)\n",
    "\n",
    "# Create ROC curve\n",
    "\n",
    "# Plot the ROC curve with false positive rate (x-axis) and true positive rate (y-axis)\n",
    "plt.plot(fpr, tpr, label=\"AUC=\" + str(auc))\n",
    "\n",
    "# Set the y-axis label\n",
    "plt.ylabel(\"True Positive Rate\")\n",
    "\n",
    "# Set the x-axis label\n",
    "plt.xlabel(\"False Positive Rate\")\n",
    "\n",
    "# Add a legend to the plot at the lower-right corner\n",
    "plt.legend(loc=4)\n",
    "\n",
    "# Display the plot\n",
    "plt.show()\n"
   ]
  },
  {
   "cell_type": "markdown",
   "id": "e66e99b5",
   "metadata": {
    "id": "e66e99b5"
   },
   "source": [
    " "
   ]
  },
  {
   "cell_type": "markdown",
   "id": "378347ac",
   "metadata": {
    "id": "378347ac"
   },
   "source": [
    "#### XGBoost Hypertuned Model Classification Report"
   ]
  },
  {
   "cell_type": "code",
   "execution_count": null,
   "id": "ee371d34",
   "metadata": {
    "colab": {
     "base_uri": "https://localhost:8080/"
    },
    "id": "ee371d34",
    "outputId": "4f745c71-a171-4af4-c9a4-60b57d528e3f"
   },
   "outputs": [],
   "source": [
    "\n",
    "# Evaluating XGBoost hypertuned model performance\n",
    "class_report_3 = classification_report(y_test, y_pred_3);\n",
    "\n",
    "print(class_report_3)"
   ]
  },
  {
   "cell_type": "markdown",
   "id": "50aae3b2",
   "metadata": {
    "id": "50aae3b2"
   },
   "source": [
    " "
   ]
  },
  {
   "cell_type": "markdown",
   "id": "850b341e",
   "metadata": {
    "id": "850b341e"
   },
   "source": [
    "### 3c. Feature Importance Plot of Most Efficient model"
   ]
  },
  {
   "cell_type": "code",
   "execution_count": null,
   "id": "8333538e",
   "metadata": {
    "id": "8333538e"
   },
   "outputs": [],
   "source": [
    "\n",
    "# Get the feature importances from the random forest base model\n",
    "importances = rf.feature_importances_\n"
   ]
  },
  {
   "cell_type": "code",
   "execution_count": null,
   "id": "55e8fe1c",
   "metadata": {
    "colab": {
     "base_uri": "https://localhost:8080/",
     "height": 464
    },
    "id": "55e8fe1c",
    "outputId": "ce678893-e47a-4625-9dd6-e14bd1ce9510"
   },
   "outputs": [],
   "source": [
    "# Create a DataFrame to store feature names and importances\n",
    "feature_importances = pd.DataFrame({\"Feature\": X.columns, \"Importance\": importances})\n",
    "\n",
    "# Sort features by importance in descending order\n",
    "feature_importances = feature_importances.sort_values(by=\"Importance\", ascending=False)\n",
    "\n",
    "# Plot feature importances\n",
    "plt.figure(figsize=(12, 2))\n",
    "\n",
    "plt.bar(feature_importances[\"Feature\"], feature_importances[\"Importance\"])\n",
    "\n",
    "# Rotate x-axis labels for better readability\n",
    "plt.xticks(rotation=90)\n",
    "\n",
    "# Set the title of the plot\n",
    "plt.title(\"Feature Importances\")\n",
    "\n",
    "# Set the x-axis label\n",
    "plt.xlabel(\"Feature\")\n",
    "\n",
    "# Set the y-axis label\n",
    "plt.ylabel(\"Importance\")\n",
    "\n",
    "plt.show()\n"
   ]
  },
  {
   "cell_type": "markdown",
   "id": "a95d2661",
   "metadata": {},
   "source": [
    " "
   ]
  },
  {
   "cell_type": "markdown",
   "id": "1019457d",
   "metadata": {},
   "source": [
    "#### Tuned logisticregression feature importance"
   ]
  },
  {
   "cell_type": "code",
   "execution_count": null,
   "id": "78b31c3d",
   "metadata": {},
   "outputs": [],
   "source": [
    "\n",
    "# Retrieve the coefficients or feature importances\n",
    "feature_importance = best_model.coef_[0]\n",
    "\n",
    "# Get the corresponding feature names\n",
    "feature_names = data4_normal.columns\n",
    "\n",
    "# Sort the feature importance in descending order\n",
    "sorted_indices = feature_importance.argsort()[::-1]\n",
    "sorted_feature_importance = feature_importance[sorted_indices]\n",
    "sorted_feature_names = feature_names[sorted_indices]\n",
    "\n",
    "\n",
    "# Plot the feature importance\n",
    "plt.figure(figsize=(10, 6))\n",
    "plt.bar(range(len(feature_importance)), sorted_feature_importance)\n",
    "plt.xticks(range(len(feature_importance)), sorted_feature_names, rotation='vertical')\n",
    "plt.xlabel('Features')\n",
    "plt.ylabel('Importance')\n",
    "plt.title('Feature Importance - Logistic Regression')\n",
    "plt.tight_layout()\n",
    "plt.show()\n"
   ]
  },
  {
   "cell_type": "markdown",
   "id": "3eadcdba",
   "metadata": {},
   "source": [
    " "
   ]
  },
  {
   "cell_type": "markdown",
   "id": "b81993e5",
   "metadata": {},
   "source": [
    "#### Tuned xgboost feature importance"
   ]
  },
  {
   "cell_type": "code",
   "execution_count": null,
   "id": "f858728e",
   "metadata": {
    "id": "f858728e"
   },
   "outputs": [],
   "source": [
    "# Get the feature importances from the random forest base model\n",
    "importances_xg_tuned = best_model_3.feature_importances_\n",
    "\n",
    "# Create a DataFrame to store feature names and importances\n",
    "feature_importances = pd.DataFrame({\"Feature\": X.columns, \"Importance\": importances_xg_tuned})\n",
    "\n",
    "# Sort features by importance in descending order\n",
    "feature_importances = feature_importances.sort_values(by=\"Importance\", ascending=False)\n",
    "\n",
    "# Plot feature importances\n",
    "plt.figure(figsize=(12, 2))\n",
    "\n",
    "plt.bar(feature_importances[\"Feature\"], feature_importances[\"Importance\"])\n",
    "\n",
    "# Rotate x-axis labels for better readability\n",
    "plt.xticks(rotation=90)\n",
    "\n",
    "# Set the title of the plot\n",
    "plt.title(\"Feature Importances\")\n",
    "\n",
    "# Set the x-axis label\n",
    "plt.xlabel(\"Feature\")\n",
    "\n",
    "# Set the y-axis label\n",
    "plt.ylabel(\"Importance\")\n",
    "\n",
    "plt.show()"
   ]
  },
  {
   "cell_type": "code",
   "execution_count": null,
   "id": "42990b95",
   "metadata": {},
   "outputs": [],
   "source": []
  }
 ],
 "metadata": {
  "colab": {
   "provenance": []
  },
  "kernelspec": {
   "display_name": "Python 3 (ipykernel)",
   "language": "python",
   "name": "python3"
  },
  "language_info": {
   "codemirror_mode": {
    "name": "ipython",
    "version": 3
   },
   "file_extension": ".py",
   "mimetype": "text/x-python",
   "name": "python",
   "nbconvert_exporter": "python",
   "pygments_lexer": "ipython3",
   "version": "3.9.7"
  }
 },
 "nbformat": 4,
 "nbformat_minor": 5
}
